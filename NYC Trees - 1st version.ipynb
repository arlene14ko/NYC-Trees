{
 "cells": [
  {
   "cell_type": "markdown",
   "id": "agreed-funeral",
   "metadata": {},
   "source": [
    "# NYC Trees"
   ]
  },
  {
   "cell_type": "markdown",
   "id": "consistent-baptist",
   "metadata": {},
   "source": [
    "###### This jupyter notebook will clean the dataset and save it to a CSV file "
   ]
  },
  {
   "cell_type": "code",
   "execution_count": 9,
   "id": "emotional-smoke",
   "metadata": {},
   "outputs": [],
   "source": [
    "# Importing the necessary libraries for this project\n",
    "import pandas as pd \n",
    "import numpy as np\n",
    "import time"
   ]
  },
  {
   "cell_type": "code",
   "execution_count": 10,
   "id": "frank-antibody",
   "metadata": {},
   "outputs": [],
   "source": [
    "def latin_family(i):\n",
    "    \"\"\"\n",
    "    Function latin_family will get the latin family and return the family name. \n",
    "    :parameter i is required for this function\n",
    "    :attrib plant will contain the string i parameter\n",
    "    :attrib family will contain the split plant name\n",
    "    \"\"\"\n",
    "    plant = str(i)\n",
    "    if plant == \"nan\": \n",
    "        return i\n",
    "    else:\n",
    "        family = plant.split(\" \")[0]\n",
    "        return family\n",
    "    \n",
    "    \n",
    "def plant_family(i):\n",
    "    \"\"\"\n",
    "    Function plant_family will get the plant family name and return the family name. \n",
    "    :parameter i is required for this function\n",
    "    :attrib plant will contain the string i parameter\n",
    "    :attrib family will contain the split plant family name\n",
    "    \"\"\"\n",
    "    plant = str(i)\n",
    "    if plant == \"nan\": \n",
    "        return i\n",
    "    else:\n",
    "        family = plant.split(\" \")[-1]\n",
    "        return family\n",
    "    \n",
    "def check_prob(i):\n",
    "    \"\"\"\n",
    "    Function check_prob will clean the problems columns. \n",
    "    :parameter i is required for this function\n",
    "    :attrib prob will contain the string i parameter\n",
    "    :attrib problems is a list containing the problems of the plant\n",
    "    :attrib li will contain the list of split prob attrib\n",
    "    :attrib prob1 will contain the cleaned version of problems list\n",
    "    It will go thru a loop to remove the duplicates\n",
    "    :attrib sorted_prob will sort the prob1 attrib\n",
    "    :attrib probs will be a string containing the sorted_prob \n",
    "    This function will return the probs attrib\n",
    "    \"\"\"\n",
    "    prob = str(i)\n",
    "    if prob == \"nan\": \n",
    "        return i\n",
    "    elif prob == \"None\":\n",
    "        return i\n",
    "    else:\n",
    "        problems = []\n",
    "        li = prob.split(\",\")\n",
    "        for i in li:\n",
    "            if \"stone\" in i.lower():\n",
    "                problems.append(\"Stones\")\n",
    "            elif \"trunk\" in i.lower():\n",
    "                problems.append(\"Trunk\")\n",
    "            elif \"branch\" in i.lower():\n",
    "                problems.append(\"Branch\")\n",
    "            elif \"root\" in i.lower():\n",
    "                problems.append(\"Root\")\n",
    "            elif \"wires\" in i.lower():\n",
    "                problems.append(\"Wires\")\n",
    "            elif \"metal\" in i.lower():\n",
    "                problems.append(\"Metal\")\n",
    "            elif \"sneaker\" in i.lower():\n",
    "                problems.append(\"Sneakers\")\n",
    "            else:\n",
    "                problems.append(i)\n",
    "        \n",
    "        prob1 = []\n",
    "        for i in problems:\n",
    "            if i not in prob1:\n",
    "                prob1.append(i)\n",
    "                \n",
    "        sorted_prob = sorted(prob1)\n",
    "     \n",
    "        probs = ', '.join(map(str, sorted_prob))\n",
    "        return probs"
   ]
  },
  {
   "cell_type": "code",
   "execution_count": 13,
   "id": "connected-cartridge",
   "metadata": {},
   "outputs": [],
   "source": [
    "def clean_dataset(data):\n",
    "    \"\"\"\n",
    "    Function to start cleaning the dataset\n",
    "    :parameter data is required to start the function\n",
    "    :attrib start will contain the time the program started\n",
    "    :attrib df will be the dataset\n",
    "    :attrib end will contain the time the program ended\n",
    "    This function will return a print statement once the program is done.\n",
    "    \"\"\"\n",
    "    \n",
    "    start = time.time()\n",
    "    print(\"We will now start cleaning your dataset.\")\n",
    "    \n",
    "    df = pd.read_csv(data)\n",
    "    print(f\"Reading dataset from: {data}\")\n",
    "    \n",
    "    df['created_at'] = pd.to_datetime(df['created_at'])\n",
    "    df['day'] = df['created_at'].dt.day\n",
    "    df['month'] = df['created_at'].dt.month\n",
    "    df['year'] = df['created_at'].dt.year\n",
    "    df = df.drop(columns = ['tree_id', 'block_id'])\n",
    "    \n",
    "    \n",
    "    df['curb_loc'].replace({ \"OnCurb\" : 0, \"OffsetFromCurb\" : 1} , inplace = True)\n",
    "    df['status'].replace({ \"Alive\" : 0, \"Stump\" : 1, \"Dead\": 2 } , inplace = True)\n",
    "    df['health'].replace({ \"Good\" : 0, \"Fair\" : 1, \"Poor\": 2 } , inplace = True)\n",
    "    df['steward'].replace({ \"None\" : 0, \"1or2\" : 1, \"3or4\" : 2, \"4orMore\" : 3} , inplace = True)\n",
    "    df['guards'].replace({ \"None\" : 0, \"Helpful\" : 1, \"Harmful\" : 2, \"Unsure\" : 3} , inplace = True)\n",
    "    df['sidewalk'].replace({ \"NoDamage\" : 0, \"Damage\" : 1} , inplace = True)\n",
    "    df['user_type'].replace({ \"Volunteer\" : 0, \"TreesCount Staff\" : 1, \"NYC Parks Staff\" : 2} , inplace = True)\n",
    "\n",
    "\n",
    "    df['spc_latin_family'] = df['spc_latin'].apply(latin_family)\n",
    "    df['spc_common_family'] = df['spc_common'].apply(plant_family)\n",
    "    \n",
    "    root_columns = ['root_stone', 'root_grate', 'root_other']\n",
    "\n",
    "    df['root_problems'] = df[root_columns].any(axis=1)\n",
    "    df['root_problems'] = df['root_problems'].apply(lambda x : \"yes\" if x else \"no\")\n",
    "    df['root_problems'].replace({ \"no\" : 0, \"yes\" : 1} , inplace = True)\n",
    "\n",
    "    df = df.drop(columns = ['root_stone', 'root_grate', 'root_other'])\n",
    "    \n",
    "    trunk_columns = ['trnk_wire', 'trnk_light', 'trnk_other']\n",
    "\n",
    "    df['trunk_problems'] = df[trunk_columns].any(axis=1)\n",
    "    df['trunk_problems'] = df['trunk_problems'].apply(lambda x : \"yes\" if x else \"no\")\n",
    "    df['trunk_problems'].replace({ \"no\" : 0, \"yes\" : 1} , inplace = True)\n",
    "\n",
    "    df = df.drop(columns = ['trnk_wire', 'trnk_light', 'trnk_other'])\n",
    "    \n",
    "    branch_columns = ['brnch_ligh', 'brnch_shoe', 'brnch_othe']\n",
    "\n",
    "    df['branch_problems'] = df[branch_columns].any(axis=1)\n",
    "    df['branch_problems'] = df['branch_problems'].apply(lambda x : \"yes\" if x else \"no\")\n",
    "    df['branch_problems'].replace({ \"no\" : 0, \"yes\" : 1} , inplace = True)\n",
    "    \n",
    "    df = df.drop(columns =  ['brnch_ligh', 'brnch_shoe', 'brnch_othe', 'state'])\n",
    "    \n",
    "    df['problem(s)'] = df['problems'].apply(check_prob)\n",
    "    \n",
    "    \n",
    "    df.to_csv(r'datasets\\NYC-Trees-1st-version', index = False)\n",
    "    end = time.time()\n",
    "    return(f\"Successfully cleaned the data! It took a total of {end-start} seconds.\")\n"
   ]
  },
  {
   "cell_type": "code",
   "execution_count": 14,
   "id": "flying-review",
   "metadata": {},
   "outputs": [
    {
     "name": "stdout",
     "output_type": "stream",
     "text": [
      "We will now start cleaning your dataset.\n",
      "Reading dataset from: assets/data_100000.csv\n"
     ]
    },
    {
     "data": {
      "text/plain": [
       "'Successfully cleaned the data! It took a total of 6.026623725891113 seconds.'"
      ]
     },
     "execution_count": 14,
     "metadata": {},
     "output_type": "execute_result"
    }
   ],
   "source": [
    "data = 'assets/data_100000.csv'\n",
    "clean_dataset(data)"
   ]
  },
  {
   "cell_type": "code",
   "execution_count": null,
   "id": "independent-reaction",
   "metadata": {},
   "outputs": [],
   "source": []
  }
 ],
 "metadata": {
  "kernelspec": {
   "display_name": "Python 3",
   "language": "python",
   "name": "python3"
  },
  "language_info": {
   "codemirror_mode": {
    "name": "ipython",
    "version": 3
   },
   "file_extension": ".py",
   "mimetype": "text/x-python",
   "name": "python",
   "nbconvert_exporter": "python",
   "pygments_lexer": "ipython3",
   "version": "3.9.2"
  }
 },
 "nbformat": 4,
 "nbformat_minor": 5
}

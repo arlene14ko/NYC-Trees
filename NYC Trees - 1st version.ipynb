{
 "cells": [
  {
   "cell_type": "markdown",
   "id": "agreed-funeral",
   "metadata": {},
   "source": [
    "# NYC Trees"
   ]
  },
  {
   "cell_type": "markdown",
   "id": "consistent-baptist",
   "metadata": {},
   "source": [
    "###### This jupyter notebook will clean the dataset and save it to a CSV file "
   ]
  },
  {
   "cell_type": "code",
   "execution_count": 2,
   "id": "emotional-smoke",
   "metadata": {},
   "outputs": [],
   "source": [
    "import pandas as pd\n",
    "import numpy as np\n",
    "import time"
   ]
  },
  {
   "cell_type": "code",
   "execution_count": 3,
   "id": "respiratory-munich",
   "metadata": {},
   "outputs": [],
   "source": [
    "def latin_family(i):\n",
    "    plant = str(i)\n",
    "    if plant == \"nan\": \n",
    "        return i\n",
    "    else:\n",
    "        family = plant.split(\" \")[0]\n",
    "        return family\n",
    "    \n",
    "    \n",
    "def plant_family(i):\n",
    "    plant = str(i)\n",
    "    if plant == \"nan\": \n",
    "        return i\n",
    "    else:\n",
    "        family = plant.split(\" \")[-1]\n",
    "        return family\n",
    "    \n",
    "def check_prob(i):\n",
    "    prob = str(i)\n",
    "    if prob == \"nan\": \n",
    "        return i\n",
    "    elif prob == \"None\":\n",
    "        return i\n",
    "    else:\n",
    "        problems = []\n",
    "        li = prob.split(\",\")\n",
    "        for i in li:\n",
    "            if \"stone\" in i.lower():\n",
    "                problems.append(\"Stones\")\n",
    "            elif \"trunk\" in i.lower():\n",
    "                problems.append(\"Trunk\")\n",
    "            elif \"branch\" in i.lower():\n",
    "                problems.append(\"Branch\")\n",
    "            elif \"root\" in i.lower():\n",
    "                problems.append(\"Root\")\n",
    "            elif \"wires\" in i.lower():\n",
    "                problems.append(\"Wires\")\n",
    "            elif \"metal\" in i.lower():\n",
    "                problems.append(\"Metal\")\n",
    "            elif \"sneaker\" in i.lower():\n",
    "                problems.append(\"Sneakers\")\n",
    "            else:\n",
    "                problems.append(i)\n",
    "        \n",
    "        prob1 = []\n",
    "        for i in problems:\n",
    "            if i not in prob1:\n",
    "                prob1.append(i)\n",
    "                \n",
    "        sorted_prob = sorted(prob1)\n",
    "     \n",
    "        probs = ', '.join(map(str, sorted_prob))\n",
    "        return probs"
   ]
  },
  {
   "cell_type": "code",
   "execution_count": 4,
   "id": "caring-engine",
   "metadata": {},
   "outputs": [],
   "source": [
    "def start():\n",
    "    \n",
    "    start = time.time()\n",
    "    \n",
    "    df = pd.read_csv('assets/data_100000.csv')\n",
    "    df['created_at'] = pd.to_datetime(df['created_at'])\n",
    "    df['day'] = df['created_at'].dt.day\n",
    "    df['month'] = df['created_at'].dt.month\n",
    "    df['year'] = df['created_at'].dt.year\n",
    "    df = df.drop(columns = ['tree_id', 'block_id'])\n",
    "    \n",
    "    df['curb_loc'].replace({ \"OnCurb\" : 0, \"OffsetFromCurb\" : 1} , inplace = True)\n",
    "    df['status'].replace({ \"Alive\" : 0, \"Stump\" : 1, \"Dead\": 2 } , inplace = True)\n",
    "    df['health'].replace({ \"Good\" : 0, \"Fair\" : 1, \"Poor\": 2 } , inplace = True)\n",
    "    df['steward'].replace({ \"None\" : 0, \"1or2\" : 1, \"3or4\" : 2, \"4orMore\" : 3} , inplace = True)\n",
    "    df['guards'].replace({ \"None\" : 0, \"Helpful\" : 1, \"Harmful\" : 2, \"Unsure\" : 3} , inplace = True)\n",
    "    df['sidewalk'].replace({ \"NoDamage\" : 0, \"Damage\" : 1} , inplace = True)\n",
    "    df['user_type'].replace({ \"Volunteer\" : 0, \"TreesCount Staff\" : 1, \"NYC Parks Staff\" : 2} , inplace = True)\n",
    "\n",
    "\n",
    "    df['spc_latin_family'] = df['spc_latin'].apply(latin_family)\n",
    "    df['spc_common_family'] = df['spc_common'].apply(plant_family)\n",
    "    \n",
    "    root_columns = ['root_stone', 'root_grate', 'root_other']\n",
    "\n",
    "    df['root_problems'] = df[root_columns].any(axis=1)\n",
    "    df['root_problems'] = df['root_problems'].apply(lambda x : \"yes\" if x else \"no\")\n",
    "    df['root_problems'].replace({ \"no\" : 0, \"yes\" : 1} , inplace = True)\n",
    "\n",
    "    df = df.drop(columns = ['root_stone', 'root_grate', 'root_other'])\n",
    "    \n",
    "    trunk_columns = ['trnk_wire', 'trnk_light', 'trnk_other']\n",
    "\n",
    "    df['trunk_problems'] = df[trunk_columns].any(axis=1)\n",
    "    df['trunk_problems'] = df['trunk_problems'].apply(lambda x : \"yes\" if x else \"no\")\n",
    "    df['trunk_problems'].replace({ \"no\" : 0, \"yes\" : 1} , inplace = True)\n",
    "\n",
    "    df = df.drop(columns = ['trnk_wire', 'trnk_light', 'trnk_other'])\n",
    "    \n",
    "    branch_columns = ['brnch_ligh', 'brnch_shoe', 'brnch_othe']\n",
    "\n",
    "    df['branch_problems'] = df[branch_columns].any(axis=1)\n",
    "    df['branch_problems'] = df['branch_problems'].apply(lambda x : \"yes\" if x else \"no\")\n",
    "    df['branch_problems'].replace({ \"no\" : 0, \"yes\" : 1} , inplace = True)\n",
    "    \n",
    "    df = df.drop(columns =  ['brnch_ligh', 'brnch_shoe', 'brnch_othe', 'state'])\n",
    "    \n",
    "    df['problem(s)'] = df['problems'].apply(check_prob)\n",
    "    \n",
    "    \n",
    "    df.to_csv(r'datasets\\NYC-Trees-2nd-version', index = False)\n",
    "    end = time.time()\n",
    "    return(f\"Successfully cleaned the data! It took a total of {end-start} seconds.\")\n"
   ]
  },
  {
   "cell_type": "code",
   "execution_count": 5,
   "id": "premier-integrity",
   "metadata": {},
   "outputs": [
    {
     "data": {
      "text/plain": [
       "'Successfully cleaned the data! It took a total of 4.671607494354248 seconds.'"
      ]
     },
     "execution_count": 5,
     "metadata": {},
     "output_type": "execute_result"
    }
   ],
   "source": [
    "start()"
   ]
  },
  {
   "cell_type": "code",
   "execution_count": null,
   "id": "electrical-record",
   "metadata": {},
   "outputs": [],
   "source": []
  }
 ],
 "metadata": {
  "kernelspec": {
   "display_name": "Python 3",
   "language": "python",
   "name": "python3"
  },
  "language_info": {
   "codemirror_mode": {
    "name": "ipython",
    "version": 3
   },
   "file_extension": ".py",
   "mimetype": "text/x-python",
   "name": "python",
   "nbconvert_exporter": "python",
   "pygments_lexer": "ipython3",
   "version": "3.9.2"
  }
 },
 "nbformat": 4,
 "nbformat_minor": 5
}

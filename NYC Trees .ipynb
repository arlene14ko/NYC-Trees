{
 "cells": [
  {
   "cell_type": "markdown",
   "id": "agreed-funeral",
   "metadata": {},
   "source": [
    "# NYC Trees"
   ]
  },
  {
   "cell_type": "markdown",
   "id": "consistent-baptist",
   "metadata": {},
   "source": [
    "### Importing the necessary libraries"
   ]
  },
  {
   "cell_type": "code",
   "execution_count": 254,
   "id": "emotional-smoke",
   "metadata": {},
   "outputs": [],
   "source": [
    "import pandas as pd\n",
    "import numpy as np"
   ]
  },
  {
   "cell_type": "markdown",
   "id": "broken-justice",
   "metadata": {},
   "source": [
    "### Importing the csv file"
   ]
  },
  {
   "cell_type": "code",
   "execution_count": 255,
   "id": "impressive-administrator",
   "metadata": {},
   "outputs": [
    {
     "data": {
      "text/html": [
       "<div>\n",
       "<style scoped>\n",
       "    .dataframe tbody tr th:only-of-type {\n",
       "        vertical-align: middle;\n",
       "    }\n",
       "\n",
       "    .dataframe tbody tr th {\n",
       "        vertical-align: top;\n",
       "    }\n",
       "\n",
       "    .dataframe thead th {\n",
       "        text-align: right;\n",
       "    }\n",
       "</style>\n",
       "<table border=\"1\" class=\"dataframe\">\n",
       "  <thead>\n",
       "    <tr style=\"text-align: right;\">\n",
       "      <th></th>\n",
       "      <th>created_at</th>\n",
       "      <th>tree_id</th>\n",
       "      <th>block_id</th>\n",
       "      <th>the_geom</th>\n",
       "      <th>tree_dbh</th>\n",
       "      <th>stump_diam</th>\n",
       "      <th>curb_loc</th>\n",
       "      <th>status</th>\n",
       "      <th>health</th>\n",
       "      <th>spc_latin</th>\n",
       "      <th>...</th>\n",
       "      <th>st_assem</th>\n",
       "      <th>st_senate</th>\n",
       "      <th>nta</th>\n",
       "      <th>nta_name</th>\n",
       "      <th>boro_ct</th>\n",
       "      <th>state</th>\n",
       "      <th>latitude</th>\n",
       "      <th>longitude</th>\n",
       "      <th>x_sp</th>\n",
       "      <th>y_sp</th>\n",
       "    </tr>\n",
       "  </thead>\n",
       "  <tbody>\n",
       "    <tr>\n",
       "      <th>0</th>\n",
       "      <td>08/27/2015</td>\n",
       "      <td>180683</td>\n",
       "      <td>348711</td>\n",
       "      <td>POINT (-73.84421521958048 40.723091773924274)</td>\n",
       "      <td>3</td>\n",
       "      <td>0</td>\n",
       "      <td>OnCurb</td>\n",
       "      <td>Alive</td>\n",
       "      <td>Fair</td>\n",
       "      <td>Acer rubrum</td>\n",
       "      <td>...</td>\n",
       "      <td>28</td>\n",
       "      <td>16</td>\n",
       "      <td>QN17</td>\n",
       "      <td>Forest Hills</td>\n",
       "      <td>4073900</td>\n",
       "      <td>New York</td>\n",
       "      <td>40.723092</td>\n",
       "      <td>-73.844215</td>\n",
       "      <td>1.027431e+06</td>\n",
       "      <td>202756.768749</td>\n",
       "    </tr>\n",
       "    <tr>\n",
       "      <th>1</th>\n",
       "      <td>09/03/2015</td>\n",
       "      <td>200540</td>\n",
       "      <td>315986</td>\n",
       "      <td>POINT (-73.81867945834878 40.79411066708779)</td>\n",
       "      <td>21</td>\n",
       "      <td>0</td>\n",
       "      <td>OnCurb</td>\n",
       "      <td>Alive</td>\n",
       "      <td>Fair</td>\n",
       "      <td>Quercus palustris</td>\n",
       "      <td>...</td>\n",
       "      <td>27</td>\n",
       "      <td>11</td>\n",
       "      <td>QN49</td>\n",
       "      <td>Whitestone</td>\n",
       "      <td>4097300</td>\n",
       "      <td>New York</td>\n",
       "      <td>40.794111</td>\n",
       "      <td>-73.818679</td>\n",
       "      <td>1.034456e+06</td>\n",
       "      <td>228644.837379</td>\n",
       "    </tr>\n",
       "    <tr>\n",
       "      <th>2</th>\n",
       "      <td>09/05/2015</td>\n",
       "      <td>204026</td>\n",
       "      <td>218365</td>\n",
       "      <td>POINT (-73.93660770459083 40.717580740099116)</td>\n",
       "      <td>3</td>\n",
       "      <td>0</td>\n",
       "      <td>OnCurb</td>\n",
       "      <td>Alive</td>\n",
       "      <td>Good</td>\n",
       "      <td>Gleditsia triacanthos var. inermis</td>\n",
       "      <td>...</td>\n",
       "      <td>50</td>\n",
       "      <td>18</td>\n",
       "      <td>BK90</td>\n",
       "      <td>East Williamsburg</td>\n",
       "      <td>3044900</td>\n",
       "      <td>New York</td>\n",
       "      <td>40.717581</td>\n",
       "      <td>-73.936608</td>\n",
       "      <td>1.001823e+06</td>\n",
       "      <td>200716.891267</td>\n",
       "    </tr>\n",
       "    <tr>\n",
       "      <th>3</th>\n",
       "      <td>09/05/2015</td>\n",
       "      <td>204337</td>\n",
       "      <td>217969</td>\n",
       "      <td>POINT (-73.93445615919741 40.713537494833226)</td>\n",
       "      <td>10</td>\n",
       "      <td>0</td>\n",
       "      <td>OnCurb</td>\n",
       "      <td>Alive</td>\n",
       "      <td>Good</td>\n",
       "      <td>Gleditsia triacanthos var. inermis</td>\n",
       "      <td>...</td>\n",
       "      <td>53</td>\n",
       "      <td>18</td>\n",
       "      <td>BK90</td>\n",
       "      <td>East Williamsburg</td>\n",
       "      <td>3044900</td>\n",
       "      <td>New York</td>\n",
       "      <td>40.713537</td>\n",
       "      <td>-73.934456</td>\n",
       "      <td>1.002420e+06</td>\n",
       "      <td>199244.253136</td>\n",
       "    </tr>\n",
       "    <tr>\n",
       "      <th>4</th>\n",
       "      <td>08/30/2015</td>\n",
       "      <td>189565</td>\n",
       "      <td>223043</td>\n",
       "      <td>POINT (-73.97597938483258 40.66677775537875)</td>\n",
       "      <td>21</td>\n",
       "      <td>0</td>\n",
       "      <td>OnCurb</td>\n",
       "      <td>Alive</td>\n",
       "      <td>Good</td>\n",
       "      <td>Tilia americana</td>\n",
       "      <td>...</td>\n",
       "      <td>44</td>\n",
       "      <td>21</td>\n",
       "      <td>BK37</td>\n",
       "      <td>Park Slope-Gowanus</td>\n",
       "      <td>3016500</td>\n",
       "      <td>New York</td>\n",
       "      <td>40.666778</td>\n",
       "      <td>-73.975979</td>\n",
       "      <td>9.909138e+05</td>\n",
       "      <td>182202.425999</td>\n",
       "    </tr>\n",
       "  </tbody>\n",
       "</table>\n",
       "<p>5 rows × 42 columns</p>\n",
       "</div>"
      ],
      "text/plain": [
       "   created_at  tree_id  block_id  \\\n",
       "0  08/27/2015   180683    348711   \n",
       "1  09/03/2015   200540    315986   \n",
       "2  09/05/2015   204026    218365   \n",
       "3  09/05/2015   204337    217969   \n",
       "4  08/30/2015   189565    223043   \n",
       "\n",
       "                                        the_geom  tree_dbh  stump_diam  \\\n",
       "0  POINT (-73.84421521958048 40.723091773924274)         3           0   \n",
       "1   POINT (-73.81867945834878 40.79411066708779)        21           0   \n",
       "2  POINT (-73.93660770459083 40.717580740099116)         3           0   \n",
       "3  POINT (-73.93445615919741 40.713537494833226)        10           0   \n",
       "4   POINT (-73.97597938483258 40.66677775537875)        21           0   \n",
       "\n",
       "  curb_loc status health                           spc_latin  ... st_assem  \\\n",
       "0   OnCurb  Alive   Fair                         Acer rubrum  ...       28   \n",
       "1   OnCurb  Alive   Fair                   Quercus palustris  ...       27   \n",
       "2   OnCurb  Alive   Good  Gleditsia triacanthos var. inermis  ...       50   \n",
       "3   OnCurb  Alive   Good  Gleditsia triacanthos var. inermis  ...       53   \n",
       "4   OnCurb  Alive   Good                     Tilia americana  ...       44   \n",
       "\n",
       "  st_senate   nta            nta_name  boro_ct     state   latitude  \\\n",
       "0        16  QN17        Forest Hills  4073900  New York  40.723092   \n",
       "1        11  QN49          Whitestone  4097300  New York  40.794111   \n",
       "2        18  BK90   East Williamsburg  3044900  New York  40.717581   \n",
       "3        18  BK90   East Williamsburg  3044900  New York  40.713537   \n",
       "4        21  BK37  Park Slope-Gowanus  3016500  New York  40.666778   \n",
       "\n",
       "   longitude          x_sp           y_sp  \n",
       "0 -73.844215  1.027431e+06  202756.768749  \n",
       "1 -73.818679  1.034456e+06  228644.837379  \n",
       "2 -73.936608  1.001823e+06  200716.891267  \n",
       "3 -73.934456  1.002420e+06  199244.253136  \n",
       "4 -73.975979  9.909138e+05  182202.425999  \n",
       "\n",
       "[5 rows x 42 columns]"
      ]
     },
     "execution_count": 255,
     "metadata": {},
     "output_type": "execute_result"
    }
   ],
   "source": [
    "df = pd.read_csv('assets/data_100000.csv')\n",
    "df.head()"
   ]
  },
  {
   "cell_type": "markdown",
   "id": "noticed-check",
   "metadata": {},
   "source": [
    "### Changing the `created_at` column to the correct date type"
   ]
  },
  {
   "cell_type": "code",
   "execution_count": 256,
   "id": "devoted-yemen",
   "metadata": {},
   "outputs": [
    {
     "data": {
      "text/html": [
       "<div>\n",
       "<style scoped>\n",
       "    .dataframe tbody tr th:only-of-type {\n",
       "        vertical-align: middle;\n",
       "    }\n",
       "\n",
       "    .dataframe tbody tr th {\n",
       "        vertical-align: top;\n",
       "    }\n",
       "\n",
       "    .dataframe thead th {\n",
       "        text-align: right;\n",
       "    }\n",
       "</style>\n",
       "<table border=\"1\" class=\"dataframe\">\n",
       "  <thead>\n",
       "    <tr style=\"text-align: right;\">\n",
       "      <th></th>\n",
       "      <th>created_at</th>\n",
       "      <th>day</th>\n",
       "      <th>month</th>\n",
       "      <th>year</th>\n",
       "    </tr>\n",
       "  </thead>\n",
       "  <tbody>\n",
       "    <tr>\n",
       "      <th>0</th>\n",
       "      <td>2015-08-27</td>\n",
       "      <td>27</td>\n",
       "      <td>8</td>\n",
       "      <td>2015</td>\n",
       "    </tr>\n",
       "    <tr>\n",
       "      <th>1</th>\n",
       "      <td>2015-09-03</td>\n",
       "      <td>3</td>\n",
       "      <td>9</td>\n",
       "      <td>2015</td>\n",
       "    </tr>\n",
       "    <tr>\n",
       "      <th>2</th>\n",
       "      <td>2015-09-05</td>\n",
       "      <td>5</td>\n",
       "      <td>9</td>\n",
       "      <td>2015</td>\n",
       "    </tr>\n",
       "    <tr>\n",
       "      <th>3</th>\n",
       "      <td>2015-09-05</td>\n",
       "      <td>5</td>\n",
       "      <td>9</td>\n",
       "      <td>2015</td>\n",
       "    </tr>\n",
       "    <tr>\n",
       "      <th>4</th>\n",
       "      <td>2015-08-30</td>\n",
       "      <td>30</td>\n",
       "      <td>8</td>\n",
       "      <td>2015</td>\n",
       "    </tr>\n",
       "  </tbody>\n",
       "</table>\n",
       "</div>"
      ],
      "text/plain": [
       "  created_at  day  month  year\n",
       "0 2015-08-27   27      8  2015\n",
       "1 2015-09-03    3      9  2015\n",
       "2 2015-09-05    5      9  2015\n",
       "3 2015-09-05    5      9  2015\n",
       "4 2015-08-30   30      8  2015"
      ]
     },
     "execution_count": 256,
     "metadata": {},
     "output_type": "execute_result"
    }
   ],
   "source": [
    "df['created_at'] = pd.to_datetime(df['created_at'])\n",
    "df['day'] = df['created_at'].dt.day\n",
    "df['month'] = df['created_at'].dt.month\n",
    "df['year'] = df['created_at'].dt.year\n",
    "df[['created_at', 'day', 'month', 'year']].head()"
   ]
  },
  {
   "cell_type": "markdown",
   "id": "obvious-central",
   "metadata": {},
   "source": [
    "### Dropping the ID columns"
   ]
  },
  {
   "cell_type": "code",
   "execution_count": 258,
   "id": "certified-voice",
   "metadata": {},
   "outputs": [],
   "source": [
    "df = df.drop(columns = ['tree_id', 'block_id'])"
   ]
  },
  {
   "cell_type": "markdown",
   "id": "hidden-tourist",
   "metadata": {},
   "source": [
    "### Changing Curb Loc to binary (0,1) \n",
    "    0 - OnCurb\n",
    "    1 - OffsetFromCurb"
   ]
  },
  {
   "cell_type": "code",
   "execution_count": 262,
   "id": "advanced-operations",
   "metadata": {},
   "outputs": [],
   "source": [
    "df['curb_loc'].replace({ \"OnCurb\" : 0, \"OffsetFromCurb\" : 1} , inplace = True)"
   ]
  },
  {
   "cell_type": "code",
   "execution_count": 263,
   "id": "functioning-kingdom",
   "metadata": {},
   "outputs": [
    {
     "data": {
      "text/plain": [
       "0    96129\n",
       "1     3871\n",
       "Name: curb_loc, dtype: int64"
      ]
     },
     "execution_count": 263,
     "metadata": {},
     "output_type": "execute_result"
    }
   ],
   "source": [
    "df['curb_loc'].value_counts()"
   ]
  },
  {
   "cell_type": "markdown",
   "id": "divine-discussion",
   "metadata": {},
   "source": [
    "### Changing Status to numerical\n",
    "    0 - Alive\n",
    "    1 - Stump\n",
    "    2 - Dead"
   ]
  },
  {
   "cell_type": "code",
   "execution_count": 267,
   "id": "exact-desert",
   "metadata": {},
   "outputs": [],
   "source": [
    "df['status'].replace({ \"Alive\" : 0, \"Stump\" : 1, \"Dead\": 2 } , inplace = True)"
   ]
  },
  {
   "cell_type": "code",
   "execution_count": 268,
   "id": "disciplinary-camel",
   "metadata": {},
   "outputs": [
    {
     "data": {
      "text/plain": [
       "0    95008\n",
       "1     2831\n",
       "2     2161\n",
       "Name: status, dtype: int64"
      ]
     },
     "execution_count": 268,
     "metadata": {},
     "output_type": "execute_result"
    }
   ],
   "source": [
    "df['status'].value_counts()"
   ]
  },
  {
   "cell_type": "markdown",
   "id": "abandoned-valuable",
   "metadata": {},
   "source": [
    "### Changing Health to numerical\n",
    "    0 - Good\n",
    "    1 - Fair\n",
    "    2 - Poor"
   ]
  },
  {
   "cell_type": "code",
   "execution_count": 276,
   "id": "future-sound",
   "metadata": {},
   "outputs": [],
   "source": [
    "df['health'].replace({ \"Good\" : 0, \"Fair\" : 1, \"Poor\": 2 } , inplace = True)"
   ]
  },
  {
   "cell_type": "code",
   "execution_count": 279,
   "id": "guided-battery",
   "metadata": {},
   "outputs": [
    {
     "data": {
      "text/plain": [
       "0.0    72340\n",
       "1.0    17266\n",
       "2.0     5401\n",
       "Name: health, dtype: int64"
      ]
     },
     "execution_count": 279,
     "metadata": {},
     "output_type": "execute_result"
    }
   ],
   "source": [
    "df['health'].value_counts()"
   ]
  },
  {
   "cell_type": "markdown",
   "id": "desperate-possession",
   "metadata": {},
   "source": [
    "### Checking the SPC latin column and creating a feature SPC latin family\n"
   ]
  },
  {
   "cell_type": "code",
   "execution_count": 282,
   "id": "interim-laundry",
   "metadata": {},
   "outputs": [],
   "source": [
    "def latin_family(i):\n",
    "    plant = str(i)\n",
    "    if plant == \"nan\": \n",
    "        return i\n",
    "    else:\n",
    "        family = plant.split(\" \")[0]\n",
    "        return family"
   ]
  },
  {
   "cell_type": "code",
   "execution_count": 283,
   "id": "fatty-better",
   "metadata": {},
   "outputs": [
    {
     "data": {
      "text/plain": [
       "Acer             12526\n",
       "Quercus          12259\n",
       "Platanus         11976\n",
       "Gleditsia        10648\n",
       "Pyrus             8886\n",
       "Tilia             7671\n",
       "Prunus            4758\n",
       "Zelkova           4379\n",
       "Ginkgo            3629\n",
       "Styphnolobium     3557\n",
       "Fraxinus          2809\n",
       "Ulmus             2394\n",
       "Liquidambar       1274\n",
       "Malus              622\n",
       "Koelreuteria       611\n",
       "Syringa            541\n",
       "Carpinus           486\n",
       "Cornus             440\n",
       "Metasequoia        418\n",
       "Cercis             417\n",
       "Name: spc_latin_family, dtype: int64"
      ]
     },
     "execution_count": 283,
     "metadata": {},
     "output_type": "execute_result"
    }
   ],
   "source": [
    "df['spc_latin_family'] = df['spc_latin'].apply(latin_family)\n",
    "df['spc_latin_family'].value_counts().head(20)"
   ]
  },
  {
   "cell_type": "markdown",
   "id": "stretch-wiring",
   "metadata": {},
   "source": [
    "### Checking the `SPC common` column and creating a feature SPC latin family\n"
   ]
  },
  {
   "cell_type": "code",
   "execution_count": 284,
   "id": "collaborative-princeton",
   "metadata": {},
   "outputs": [],
   "source": [
    "def plant_family(i):\n",
    "    plant = str(i)\n",
    "    if plant == \"nan\": \n",
    "        return i\n",
    "    else:\n",
    "        family = plant.split(\" \")[-1]\n",
    "        return family"
   ]
  },
  {
   "cell_type": "code",
   "execution_count": 285,
   "id": "sharing-projection",
   "metadata": {},
   "outputs": [
    {
     "data": {
      "text/plain": [
       "maple           12512\n",
       "oak             12259\n",
       "planetree       11976\n",
       "honeylocust     10648\n",
       "pear             8886\n",
       "                ...  \n",
       "buckeye             9\n",
       "larch               9\n",
       "smoketree           7\n",
       "alder               5\n",
       "Osage-orange        4\n",
       "Name: spc_common_family, Length: 66, dtype: int64"
      ]
     },
     "execution_count": 285,
     "metadata": {},
     "output_type": "execute_result"
    }
   ],
   "source": [
    "df['spc_common_family'] = df['spc_common'].apply(plant_family)\n",
    "df['spc_common_family'].value_counts()"
   ]
  },
  {
   "cell_type": "markdown",
   "id": "laden-scanning",
   "metadata": {},
   "source": [
    "### Changing the steward  column to numerical\n",
    "        0 = None  (not recorded for stump or dead trees)\n",
    "        1 = 1or2\n",
    "        2 = 2or4        \n",
    "        3 = 4orMore"
   ]
  },
  {
   "cell_type": "code",
   "execution_count": 286,
   "id": "metropolitan-poultry",
   "metadata": {},
   "outputs": [
    {
     "data": {
      "text/plain": [
       "99995    1.0\n",
       "99996    1.0\n",
       "99997    1.0\n",
       "99998    0.0\n",
       "99999    1.0\n",
       "Name: steward, dtype: float64"
      ]
     },
     "execution_count": 286,
     "metadata": {},
     "output_type": "execute_result"
    }
   ],
   "source": [
    "df['steward'].replace({ \"None\" : 0, \"1or2\" : 1, \"3or4\" : 2, \"4orMore\" : 3} , inplace = True)\n",
    "df['steward'].tail()"
   ]
  },
  {
   "cell_type": "markdown",
   "id": "appointed-savannah",
   "metadata": {},
   "source": [
    "### Changing the guards column to numerical\n",
    "        0 = None  (not recorded for stump or dead trees)\n",
    "        1 = Helpful\n",
    "        2 = Harmful     \n",
    "        3 = Unsure"
   ]
  },
  {
   "cell_type": "code",
   "execution_count": 287,
   "id": "younger-terrorist",
   "metadata": {},
   "outputs": [
    {
     "data": {
      "text/plain": [
       "0    0.0\n",
       "1    0.0\n",
       "2    0.0\n",
       "3    0.0\n",
       "4    0.0\n",
       "Name: guards, dtype: float64"
      ]
     },
     "execution_count": 287,
     "metadata": {},
     "output_type": "execute_result"
    }
   ],
   "source": [
    "df['guards'].replace({ \"None\" : 0, \"Helpful\" : 1, \"Harmful\" : 2, \"Unsure\" : 3} , inplace = True)\n",
    "df['guards'].head()"
   ]
  },
  {
   "cell_type": "markdown",
   "id": "measured-swiss",
   "metadata": {},
   "source": [
    "### Changing the sidewalk column to numerical\n",
    "        0 = NoDamage\n",
    "        1 = Damage"
   ]
  },
  {
   "cell_type": "code",
   "execution_count": 288,
   "id": "cultural-condition",
   "metadata": {},
   "outputs": [
    {
     "data": {
      "text/plain": [
       "0    0.0\n",
       "1    1.0\n",
       "2    1.0\n",
       "3    1.0\n",
       "4    1.0\n",
       "Name: sidewalk, dtype: float64"
      ]
     },
     "execution_count": 288,
     "metadata": {},
     "output_type": "execute_result"
    }
   ],
   "source": [
    "df['sidewalk'].replace({ \"NoDamage\" : 0, \"Damage\" : 1} , inplace = True)\n",
    "df['sidewalk'].head()"
   ]
  },
  {
   "cell_type": "markdown",
   "id": "roman-worker",
   "metadata": {},
   "source": [
    "### Changing the sidewalk column to numerical\n",
    "        0 = Volunteer\n",
    "        1 = TreesCount Staff\n",
    "        2 = NYC Parks Staff"
   ]
  },
  {
   "cell_type": "code",
   "execution_count": 289,
   "id": "after-montreal",
   "metadata": {},
   "outputs": [
    {
     "data": {
      "text/plain": [
       "0    1\n",
       "1    1\n",
       "2    0\n",
       "3    0\n",
       "4    0\n",
       "Name: user_type, dtype: int64"
      ]
     },
     "execution_count": 289,
     "metadata": {},
     "output_type": "execute_result"
    }
   ],
   "source": [
    "df['user_type'].replace({ \"Volunteer\" : 0, \"TreesCount Staff\" : 1, \"NYC Parks Staff\" : 2} , inplace = True)\n",
    "df['user_type'].head()"
   ]
  },
  {
   "cell_type": "markdown",
   "id": "proof-construction",
   "metadata": {},
   "source": [
    "### Checking problems column"
   ]
  },
  {
   "cell_type": "code",
   "execution_count": 290,
   "id": "engaging-spiritual",
   "metadata": {},
   "outputs": [
    {
     "data": {
      "text/plain": [
       "None                                             55672\n",
       "Stones                                           16121\n",
       "BranchLights                                      4398\n",
       "Stones,BranchLights                               2949\n",
       "RootOther                                         2250\n",
       "                                                 ...  \n",
       "RootOther,WiresRope,TrunkLights,BranchLights         1\n",
       "Sneakers,BranchOther                                 1\n",
       "MetalGrates,WiresRope,BranchLights                   1\n",
       "MetalGrates,RootOther,TrunkOther,BranchLights        1\n",
       "BranchLights,Sneakers,BranchOther                    1\n",
       "Name: problems, Length: 151, dtype: int64"
      ]
     },
     "execution_count": 290,
     "metadata": {},
     "output_type": "execute_result"
    }
   ],
   "source": [
    "df['problems'].value_counts()"
   ]
  },
  {
   "cell_type": "markdown",
   "id": "affecting-abraham",
   "metadata": {},
   "source": [
    "### Checking the `root_stone, root_grate, root_other` and combining them into `root_problems` column"
   ]
  },
  {
   "cell_type": "code",
   "execution_count": 291,
   "id": "polyphonic-plumbing",
   "metadata": {},
   "outputs": [
    {
     "data": {
      "text/plain": [
       "99995    yes\n",
       "99996    yes\n",
       "99997    yes\n",
       "99998    yes\n",
       "99999    yes\n",
       "Name: root_problems, dtype: object"
      ]
     },
     "execution_count": 291,
     "metadata": {},
     "output_type": "execute_result"
    }
   ],
   "source": [
    "root_columns = ['root_stone', 'root_grate', 'root_other']\n",
    "\n",
    "df['root_problems'] = df[root_columns].any(axis=1)\n",
    "df['root_problems'] = df['root_problems'].apply(lambda x : \"yes\" if x else \"no\")\n",
    "df['root_problems'].tail()"
   ]
  },
  {
   "cell_type": "markdown",
   "id": "smooth-converter",
   "metadata": {},
   "source": [
    "Now changing the value to numerical:\n",
    "    \n",
    "    0 = no\n",
    "    1 = yes"
   ]
  },
  {
   "cell_type": "code",
   "execution_count": 292,
   "id": "involved-script",
   "metadata": {},
   "outputs": [
    {
     "data": {
      "text/plain": [
       "0    1\n",
       "1    1\n",
       "2    1\n",
       "3    1\n",
       "4    1\n",
       "Name: root_problems, dtype: int64"
      ]
     },
     "execution_count": 292,
     "metadata": {},
     "output_type": "execute_result"
    }
   ],
   "source": [
    "df['root_problems'].replace({ \"no\" : 0, \"yes\" : 1} , inplace = True)\n",
    "df['root_problems'].head()"
   ]
  },
  {
   "cell_type": "markdown",
   "id": "accessory-child",
   "metadata": {},
   "source": [
    "Now we can delete the 3 root columns we dont need."
   ]
  },
  {
   "cell_type": "code",
   "execution_count": 293,
   "id": "academic-defense",
   "metadata": {},
   "outputs": [],
   "source": [
    "df = df.drop(columns = ['root_stone', 'root_grate', 'root_other'])"
   ]
  },
  {
   "cell_type": "markdown",
   "id": "fleet-carrier",
   "metadata": {},
   "source": [
    "### Checking the `trnk_wire, trnk_light, trnk_other` and combining them into `trunk_problems` column"
   ]
  },
  {
   "cell_type": "code",
   "execution_count": 294,
   "id": "aerial-priest",
   "metadata": {},
   "outputs": [
    {
     "data": {
      "text/plain": [
       "0    yes\n",
       "1    yes\n",
       "2    yes\n",
       "3    yes\n",
       "4    yes\n",
       "Name: trunk_problems, dtype: object"
      ]
     },
     "execution_count": 294,
     "metadata": {},
     "output_type": "execute_result"
    }
   ],
   "source": [
    "trunk_columns = ['trnk_wire', 'trnk_light', 'trnk_other']\n",
    "\n",
    "df['trunk_problems'] = df[trunk_columns].any(axis=1)\n",
    "df['trunk_problems'] = df['trunk_problems'].apply(lambda x : \"yes\" if x else \"no\")\n",
    "df['trunk_problems'].head()"
   ]
  },
  {
   "cell_type": "markdown",
   "id": "outside-makeup",
   "metadata": {},
   "source": [
    "Now changing the value to numerical:\n",
    "    \n",
    "    0 = no\n",
    "    1 = yes"
   ]
  },
  {
   "cell_type": "code",
   "execution_count": 295,
   "id": "danish-share",
   "metadata": {},
   "outputs": [
    {
     "data": {
      "text/plain": [
       "0    1\n",
       "1    1\n",
       "2    1\n",
       "3    1\n",
       "4    1\n",
       "Name: trunk_problems, dtype: int64"
      ]
     },
     "execution_count": 295,
     "metadata": {},
     "output_type": "execute_result"
    }
   ],
   "source": [
    "df['trunk_problems'].replace({ \"no\" : 0, \"yes\" : 1} , inplace = True)\n",
    "df['trunk_problems'].head()"
   ]
  },
  {
   "cell_type": "markdown",
   "id": "considerable-netscape",
   "metadata": {},
   "source": [
    "Now we can delete the 3 trunk columns we dont need."
   ]
  },
  {
   "cell_type": "code",
   "execution_count": 296,
   "id": "turkish-showcase",
   "metadata": {},
   "outputs": [],
   "source": [
    "df = df.drop(columns = ['trnk_wire', 'trnk_light', 'trnk_other'])"
   ]
  },
  {
   "cell_type": "markdown",
   "id": "tamil-trader",
   "metadata": {},
   "source": [
    "### Checking the `'brnch_ligh', 'brnch_shoe', 'brnch_other'` and combining them into `branch_problems` column"
   ]
  },
  {
   "cell_type": "code",
   "execution_count": 298,
   "id": "breeding-fountain",
   "metadata": {},
   "outputs": [
    {
     "data": {
      "text/plain": [
       "0    yes\n",
       "1    yes\n",
       "2    yes\n",
       "3    yes\n",
       "4    yes\n",
       "Name: branch_problems, dtype: object"
      ]
     },
     "execution_count": 298,
     "metadata": {},
     "output_type": "execute_result"
    }
   ],
   "source": [
    "branch_columns = ['brnch_ligh', 'brnch_shoe', 'brnch_othe']\n",
    "\n",
    "df['branch_problems'] = df[branch_columns].any(axis=1)\n",
    "df['branch_problems'] = df['branch_problems'].apply(lambda x : \"yes\" if x else \"no\")\n",
    "df['branch_problems'].head()"
   ]
  },
  {
   "cell_type": "markdown",
   "id": "bored-occupation",
   "metadata": {},
   "source": [
    "Now changing the value to numerical:\n",
    "    \n",
    "    0 = no\n",
    "    1 = yes"
   ]
  },
  {
   "cell_type": "code",
   "execution_count": 299,
   "id": "disturbed-services",
   "metadata": {},
   "outputs": [
    {
     "data": {
      "text/plain": [
       "0    1\n",
       "1    1\n",
       "2    1\n",
       "3    1\n",
       "4    1\n",
       "Name: branch_problems, dtype: int64"
      ]
     },
     "execution_count": 299,
     "metadata": {},
     "output_type": "execute_result"
    }
   ],
   "source": [
    "df['branch_problems'].replace({ \"no\" : 0, \"yes\" : 1} , inplace = True)\n",
    "df['branch_problems'].head()"
   ]
  },
  {
   "cell_type": "markdown",
   "id": "motivated-project",
   "metadata": {},
   "source": [
    "Now we can delete the 3 branch columns we dont need."
   ]
  },
  {
   "cell_type": "code",
   "execution_count": 300,
   "id": "dying-straight",
   "metadata": {},
   "outputs": [],
   "source": [
    "df = df.drop(columns =  ['brnch_ligh', 'brnch_shoe', 'brnch_othe'])"
   ]
  },
  {
   "cell_type": "markdown",
   "id": "fewer-damage",
   "metadata": {},
   "source": [
    "### Checking the address columns"
   ]
  },
  {
   "cell_type": "code",
   "execution_count": 301,
   "id": "supported-device",
   "metadata": {},
   "outputs": [
    {
     "data": {
      "text/plain": [
       "Index(['created_at', 'the_geom', 'tree_dbh', 'stump_diam', 'curb_loc',\n",
       "       'status', 'health', 'spc_latin', 'spc_common', 'steward', 'guards',\n",
       "       'sidewalk', 'user_type', 'problems', 'address', 'zipcode', 'zip_city',\n",
       "       'cb_num', 'borocode', 'boroname', 'cncldist', 'st_assem', 'st_senate',\n",
       "       'nta', 'nta_name', 'boro_ct', 'state', 'latitude', 'longitude', 'x_sp',\n",
       "       'y_sp', 'day', 'month', 'year', 'spc_latin_family', 'spc_common_family',\n",
       "       'root_problems', 'trunk_problems', 'branch_problems'],\n",
       "      dtype='object')"
      ]
     },
     "execution_count": 301,
     "metadata": {},
     "output_type": "execute_result"
    }
   ],
   "source": [
    "df.columns"
   ]
  },
  {
   "cell_type": "code",
   "execution_count": 302,
   "id": "liberal-training",
   "metadata": {},
   "outputs": [],
   "source": [
    "df = df.drop(columns =  ['state'])"
   ]
  },
  {
   "cell_type": "code",
   "execution_count": 305,
   "id": "numerical-marker",
   "metadata": {
    "scrolled": false
   },
   "outputs": [
    {
     "data": {
      "text/plain": [
       "created_at           datetime64[ns]\n",
       "the_geom                     object\n",
       "tree_dbh                      int64\n",
       "stump_diam                    int64\n",
       "curb_loc                      int64\n",
       "status                        int64\n",
       "health                      float64\n",
       "spc_latin                    object\n",
       "spc_common                   object\n",
       "steward                     float64\n",
       "guards                      float64\n",
       "sidewalk                    float64\n",
       "user_type                     int64\n",
       "problems                     object\n",
       "address                      object\n",
       "zipcode                       int64\n",
       "zip_city                     object\n",
       "cb_num                        int64\n",
       "borocode                      int64\n",
       "boroname                     object\n",
       "cncldist                      int64\n",
       "st_assem                      int64\n",
       "st_senate                     int64\n",
       "nta                          object\n",
       "nta_name                     object\n",
       "boro_ct                       int64\n",
       "latitude                    float64\n",
       "longitude                   float64\n",
       "x_sp                        float64\n",
       "y_sp                        float64\n",
       "day                           int64\n",
       "month                         int64\n",
       "year                          int64\n",
       "spc_latin_family             object\n",
       "spc_common_family            object\n",
       "root_problems                 int64\n",
       "trunk_problems                int64\n",
       "branch_problems               int64\n",
       "dtype: object"
      ]
     },
     "execution_count": 305,
     "metadata": {},
     "output_type": "execute_result"
    }
   ],
   "source": [
    "df.dtypes"
   ]
  },
  {
   "cell_type": "markdown",
   "id": "injured-violin",
   "metadata": {},
   "source": [
    "### Saving 1st version to CSV"
   ]
  },
  {
   "cell_type": "code",
   "execution_count": 308,
   "id": "functioning-calcium",
   "metadata": {},
   "outputs": [],
   "source": [
    "df.to_csv(r'datasets\\NYC-Trees-1st-version', index = False)"
   ]
  },
  {
   "cell_type": "markdown",
   "id": "interior-image",
   "metadata": {},
   "source": [
    "### Changing the problems column"
   ]
  },
  {
   "cell_type": "code",
   "execution_count": 309,
   "id": "pacific-access",
   "metadata": {},
   "outputs": [
    {
     "data": {
      "text/plain": [
       "Index(['created_at', 'the_geom', 'tree_dbh', 'stump_diam', 'curb_loc',\n",
       "       'status', 'health', 'spc_latin', 'spc_common', 'steward', 'guards',\n",
       "       'sidewalk', 'user_type', 'problems', 'address', 'zipcode', 'zip_city',\n",
       "       'cb_num', 'borocode', 'boroname', 'cncldist', 'st_assem', 'st_senate',\n",
       "       'nta', 'nta_name', 'boro_ct', 'latitude', 'longitude', 'x_sp', 'y_sp',\n",
       "       'day', 'month', 'year', 'spc_latin_family', 'spc_common_family',\n",
       "       'root_problems', 'trunk_problems', 'branch_problems'],\n",
       "      dtype='object')"
      ]
     },
     "execution_count": 309,
     "metadata": {},
     "output_type": "execute_result"
    }
   ],
   "source": [
    "df.columns"
   ]
  },
  {
   "cell_type": "code",
   "execution_count": 311,
   "id": "supposed-association",
   "metadata": {},
   "outputs": [],
   "source": [
    "def check_prob(i):\n",
    "    prob = str(i)\n",
    "    if prob == \"nan\": \n",
    "        return i\n",
    "    elif prob == \"None\":\n",
    "        return i\n",
    "    else:\n",
    "        problems = []\n",
    "        li = prob.split(\",\")\n",
    "        for i in li:\n",
    "            if \"stone\" in i.lower():\n",
    "                problems.append(\"Stones\")\n",
    "            elif \"trunk\" in i.lower():\n",
    "                problems.append(\"Trunk\")\n",
    "            elif \"branch\" in i.lower():\n",
    "                problems.append(\"Branch\")\n",
    "            elif \"root\" in i.lower():\n",
    "                problems.append(\"Root\")\n",
    "            elif \"wires\" in i.lower():\n",
    "                problems.append(\"Wires\")\n",
    "            elif \"metal\" in i.lower():\n",
    "                problems.append(\"Metal\")\n",
    "            elif \"sneaker\" in i.lower():\n",
    "                problems.append(\"Sneakers\")\n",
    "            else:\n",
    "                problems.append(i)\n",
    "        \n",
    "        prob1 = []\n",
    "        for i in problems:\n",
    "            if i not in prob1:\n",
    "                prob1.append(i)\n",
    "                \n",
    "        sorted_prob = sorted(prob1)\n",
    "     \n",
    "        probs = ', '.join(map(str, sorted_prob))\n",
    "        return probs"
   ]
  },
  {
   "cell_type": "code",
   "execution_count": 312,
   "id": "aggregate-guard",
   "metadata": {},
   "outputs": [
    {
     "data": {
      "text/plain": [
       "None                           55672\n",
       "Stones                         16121\n",
       "Branch                          6189\n",
       "Branch, Stones                  3954\n",
       "Root                            2250\n",
       "Trunk                           1914\n",
       "Stones, Trunk                   1002\n",
       "Root, Stones                     941\n",
       "Branch, Root                     836\n",
       "Branch, Trunk                    757\n",
       "Wires                            658\n",
       "Branch, Stones, Trunk            575\n",
       "Metal                            574\n",
       "Branch, Root, Trunk              522\n",
       "Branch, Root, Stones             427\n",
       "Branch, Wires                    394\n",
       "Root, Trunk                      345\n",
       "Branch, Stones, Wires            336\n",
       "Stones, Wires                    306\n",
       "Branch, Root, Stones, Trunk      214\n",
       "Name: problem(s), dtype: int64"
      ]
     },
     "execution_count": 312,
     "metadata": {},
     "output_type": "execute_result"
    }
   ],
   "source": [
    "df['problem(s)'] = df['problems'].apply(check_prob)\n",
    "df['problem(s)'].value_counts().head(20)"
   ]
  },
  {
   "cell_type": "markdown",
   "id": "skilled-alias",
   "metadata": {},
   "source": [
    "Changing the values to numerical values:\n",
    "\n",
    "    0 = None                           \n",
    "    1 = Stones                         \n",
    "    2 = Branch                         \n",
    "    3 = Branch, Stones                 \n",
    "    4 = Root                           \n",
    "    5 = Trunk                          \n",
    "    6 = Stones, Trunk                  \n",
    "    7 = Root, Stones                   \n",
    "    8 = Branch, Root                   \n",
    "    9 = Branch, Trunk                  \n",
    "    10 = Wires                         \n",
    "    11 = Branch, Stones, Trunk         \n",
    "    12 = Others"
   ]
  },
  {
   "cell_type": "markdown",
   "id": "cheap-joseph",
   "metadata": {},
   "source": [
    "### Updating the null values using Imputer median"
   ]
  },
  {
   "cell_type": "code",
   "execution_count": 135,
   "id": "introductory-islam",
   "metadata": {},
   "outputs": [
    {
     "data": {
      "text/plain": [
       "health               4993\n",
       "sidewalk             4992\n",
       "spc_common_family    4992\n",
       "spc_latin_family     4992\n",
       "spc_latin            4992\n",
       "spc_common           4992\n",
       "steward              4992\n",
       "guards               4992\n",
       "problems             4992\n",
       "day                     0\n",
       "boro_ct                 0\n",
       "latitude                0\n",
       "longitude               0\n",
       "x_sp                    0\n",
       "y_sp                    0\n",
       "created_at              0\n",
       "month                   0\n",
       "year                    0\n",
       "nta                     0\n",
       "root_problems           0\n",
       "trunk_problems          0\n",
       "nta_name                0\n",
       "boroname                0\n",
       "st_senate               0\n",
       "st_assem                0\n",
       "cncldist                0\n",
       "the_geom                0\n",
       "borocode                0\n",
       "cb_num                  0\n",
       "zip_city                0\n",
       "zipcode                 0\n",
       "address                 0\n",
       "user_type               0\n",
       "status                  0\n",
       "curb_loc                0\n",
       "stump_diam              0\n",
       "tree_dbh                0\n",
       "branch_problems         0\n",
       "dtype: int64"
      ]
     },
     "execution_count": 135,
     "metadata": {},
     "output_type": "execute_result"
    }
   ],
   "source": [
    "df.isnull().sum().sort_values(ascending=False)"
   ]
  },
  {
   "cell_type": "code",
   "execution_count": 137,
   "id": "grave-fellow",
   "metadata": {},
   "outputs": [],
   "source": [
    "from sklearn.impute import SimpleImputer"
   ]
  },
  {
   "cell_type": "code",
   "execution_count": 160,
   "id": "republican-russia",
   "metadata": {},
   "outputs": [
    {
     "data": {
      "text/plain": [
       "sidewalk             4992\n",
       "spc_common_family    4992\n",
       "spc_latin_family     4992\n",
       "steward              4992\n",
       "guards               4992\n",
       "dtype: int64"
      ]
     },
     "execution_count": 160,
     "metadata": {},
     "output_type": "execute_result"
    }
   ],
   "source": [
    "df3 = df.filter(['Health','sidewalk', 'spc_common_family',\n",
    "                 'spc_latin_family',\n",
    "                 'steward', 'guards'], axis = 1)\n",
    "df3.isnull().sum()"
   ]
  },
  {
   "cell_type": "code",
   "execution_count": 164,
   "id": "documented-patch",
   "metadata": {},
   "outputs": [
    {
     "name": "stdout",
     "output_type": "stream",
     "text": [
      "1\n"
     ]
    },
    {
     "ename": "ValueError",
     "evalue": "Cannot use median strategy with non-numeric data:\ncould not convert string to float: 'apple'",
     "output_type": "error",
     "traceback": [
      "\u001b[1;31m---------------------------------------------------------------------------\u001b[0m",
      "\u001b[1;31mValueError\u001b[0m                                Traceback (most recent call last)",
      "\u001b[1;32m<ipython-input-164-97966737bea8>\u001b[0m in \u001b[0;36m<module>\u001b[1;34m\u001b[0m\n\u001b[0;32m      2\u001b[0m \u001b[0mprint\u001b[0m\u001b[1;33m(\u001b[0m\u001b[1;34m\"1\"\u001b[0m\u001b[1;33m)\u001b[0m\u001b[1;33m\u001b[0m\u001b[1;33m\u001b[0m\u001b[0m\n\u001b[0;32m      3\u001b[0m \u001b[1;31m#imr.fit(df3)\u001b[0m\u001b[1;33m\u001b[0m\u001b[1;33m\u001b[0m\u001b[1;33m\u001b[0m\u001b[0m\n\u001b[1;32m----> 4\u001b[1;33m \u001b[0mimr\u001b[0m\u001b[1;33m.\u001b[0m\u001b[0mfit\u001b[0m\u001b[1;33m(\u001b[0m\u001b[0mdf3\u001b[0m\u001b[1;33m)\u001b[0m\u001b[1;33m\u001b[0m\u001b[1;33m\u001b[0m\u001b[0m\n\u001b[0m\u001b[0;32m      5\u001b[0m \u001b[0mprint\u001b[0m\u001b[1;33m(\u001b[0m\u001b[1;34m\"2\"\u001b[0m\u001b[1;33m)\u001b[0m\u001b[1;33m\u001b[0m\u001b[1;33m\u001b[0m\u001b[0m\n\u001b[0;32m      6\u001b[0m \u001b[0mimputed_data\u001b[0m \u001b[1;33m=\u001b[0m \u001b[0mimr\u001b[0m\u001b[1;33m.\u001b[0m\u001b[0mtransform\u001b[0m\u001b[1;33m(\u001b[0m\u001b[0mdf3\u001b[0m\u001b[1;33m.\u001b[0m\u001b[0mvalues\u001b[0m\u001b[1;33m)\u001b[0m\u001b[1;33m\u001b[0m\u001b[1;33m\u001b[0m\u001b[0m\n",
      "\u001b[1;32m~\\anaconda3\\envs\\ml_env\\lib\\site-packages\\sklearn\\impute\\_base.py\u001b[0m in \u001b[0;36mfit\u001b[1;34m(self, X, y)\u001b[0m\n\u001b[0;32m    286\u001b[0m         \u001b[0mself\u001b[0m \u001b[1;33m:\u001b[0m \u001b[0mSimpleImputer\u001b[0m\u001b[1;33m\u001b[0m\u001b[1;33m\u001b[0m\u001b[0m\n\u001b[0;32m    287\u001b[0m         \"\"\"\n\u001b[1;32m--> 288\u001b[1;33m         \u001b[0mX\u001b[0m \u001b[1;33m=\u001b[0m \u001b[0mself\u001b[0m\u001b[1;33m.\u001b[0m\u001b[0m_validate_input\u001b[0m\u001b[1;33m(\u001b[0m\u001b[0mX\u001b[0m\u001b[1;33m,\u001b[0m \u001b[0min_fit\u001b[0m\u001b[1;33m=\u001b[0m\u001b[1;32mTrue\u001b[0m\u001b[1;33m)\u001b[0m\u001b[1;33m\u001b[0m\u001b[1;33m\u001b[0m\u001b[0m\n\u001b[0m\u001b[0;32m    289\u001b[0m \u001b[1;33m\u001b[0m\u001b[0m\n\u001b[0;32m    290\u001b[0m         \u001b[1;31m# default fill_value is 0 for numerical input and \"missing_value\"\u001b[0m\u001b[1;33m\u001b[0m\u001b[1;33m\u001b[0m\u001b[1;33m\u001b[0m\u001b[0m\n",
      "\u001b[1;32m~\\anaconda3\\envs\\ml_env\\lib\\site-packages\\sklearn\\impute\\_base.py\u001b[0m in \u001b[0;36m_validate_input\u001b[1;34m(self, X, in_fit)\u001b[0m\n\u001b[0;32m    258\u001b[0m                 new_ve = ValueError(\"Cannot use {} strategy with non-numeric \"\n\u001b[0;32m    259\u001b[0m                                     \"data:\\n{}\".format(self.strategy, ve))\n\u001b[1;32m--> 260\u001b[1;33m                 \u001b[1;32mraise\u001b[0m \u001b[0mnew_ve\u001b[0m \u001b[1;32mfrom\u001b[0m \u001b[1;32mNone\u001b[0m\u001b[1;33m\u001b[0m\u001b[1;33m\u001b[0m\u001b[0m\n\u001b[0m\u001b[0;32m    261\u001b[0m             \u001b[1;32melse\u001b[0m\u001b[1;33m:\u001b[0m\u001b[1;33m\u001b[0m\u001b[1;33m\u001b[0m\u001b[0m\n\u001b[0;32m    262\u001b[0m                 \u001b[1;32mraise\u001b[0m \u001b[0mve\u001b[0m\u001b[1;33m\u001b[0m\u001b[1;33m\u001b[0m\u001b[0m\n",
      "\u001b[1;31mValueError\u001b[0m: Cannot use median strategy with non-numeric data:\ncould not convert string to float: 'apple'"
     ]
    }
   ],
   "source": [
    "imr = SimpleImputer(missing_values=np.nan, strategy='median')\n",
    "print(\"1\")\n",
    "#imr.fit(df3)\n",
    "imr.fit(df3)\n",
    "print(\"2\")\n",
    "imputed_data = imr.transform(df3.values)"
   ]
  },
  {
   "cell_type": "code",
   "execution_count": 140,
   "id": "advanced-magnet",
   "metadata": {},
   "outputs": [
    {
     "data": {
      "text/plain": [
       "health               4993\n",
       "sidewalk             4992\n",
       "spc_common_family    4992\n",
       "spc_latin_family     4992\n",
       "spc_latin            4992\n",
       "spc_common           4992\n",
       "steward              4992\n",
       "guards               4992\n",
       "problems             4992\n",
       "day                     0\n",
       "boro_ct                 0\n",
       "latitude                0\n",
       "longitude               0\n",
       "x_sp                    0\n",
       "y_sp                    0\n",
       "created_at              0\n",
       "month                   0\n",
       "year                    0\n",
       "nta                     0\n",
       "root_problems           0\n",
       "trunk_problems          0\n",
       "nta_name                0\n",
       "boroname                0\n",
       "st_senate               0\n",
       "st_assem                0\n",
       "cncldist                0\n",
       "the_geom                0\n",
       "borocode                0\n",
       "cb_num                  0\n",
       "zip_city                0\n",
       "zipcode                 0\n",
       "address                 0\n",
       "user_type               0\n",
       "status                  0\n",
       "curb_loc                0\n",
       "stump_diam              0\n",
       "tree_dbh                0\n",
       "branch_problems         0\n",
       "dtype: int64"
      ]
     },
     "execution_count": 140,
     "metadata": {},
     "output_type": "execute_result"
    }
   ],
   "source": [
    "df.isnull().sum().sort_values(ascending=False)"
   ]
  },
  {
   "cell_type": "code",
   "execution_count": null,
   "id": "painted-worst",
   "metadata": {},
   "outputs": [],
   "source": [
    "\n"
   ]
  }
 ],
 "metadata": {
  "kernelspec": {
   "display_name": "Python 3",
   "language": "python",
   "name": "python3"
  },
  "language_info": {
   "codemirror_mode": {
    "name": "ipython",
    "version": 3
   },
   "file_extension": ".py",
   "mimetype": "text/x-python",
   "name": "python",
   "nbconvert_exporter": "python",
   "pygments_lexer": "ipython3",
   "version": "3.9.2"
  }
 },
 "nbformat": 4,
 "nbformat_minor": 5
}
